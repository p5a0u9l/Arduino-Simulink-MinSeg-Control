{
 "metadata": {
  "name": "",
  "signature": "sha256:509c17d3ba5ea3e59a42492495760420f8c685a31a7450e2d4a5a3f2fc8154f2"
 },
 "nbformat": 3,
 "nbformat_minor": 0,
 "worksheets": []
}